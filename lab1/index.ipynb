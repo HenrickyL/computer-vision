{
 "cells": [
  {
   "cell_type": "code",
   "execution_count": 1,
   "metadata": {},
   "outputs": [],
   "source": [
    "# pip install opencv-python\n",
    "# pip install opencv-python-headless\n",
    "# pip install matplotlib\n",
    "\n",
    "import sys\n",
    "import cv2\n",
    "import numpy as np\n",
    "import matplotlib.pyplot as plt\n"
   ]
  },
  {
   "cell_type": "code",
   "execution_count": 2,
   "metadata": {},
   "outputs": [],
   "source": [
    "#readfile\n",
    "\n",
    "def readImage(filename):\n",
    "    return cv2.imread(filename)"
   ]
  },
  {
   "cell_type": "code",
   "execution_count": 3,
   "metadata": {},
   "outputs": [],
   "source": [
    "filename = 'gamora_nebula.jpg'\n",
    "img = readImage(filename)\n",
    "im = cv2.cvtColor(img, cv2.COLOR_BGR2GRAY)\n",
    "im_dst = cv2.imread(filename,0)"
   ]
  },
  {
   "cell_type": "code",
   "execution_count": 4,
   "metadata": {},
   "outputs": [],
   "source": [
    "width = im.shape[1]\n",
    "height = im.shape[0]\n",
    "\n",
    "#ler todos os pixels da imagem\n",
    "for c in range(0, width-1):\n",
    "\tfor l in range(0, height-1):\n",
    "\t\tpx = im.item(l,c)\n",
    "\n",
    "\t\t#negativo\n",
    "\t\tim_dst.itemset(l,c,255-px)\n",
    "\n",
    "#\t\tif px > 100:\n",
    "#\t\t\tim.itemset(l,c,255)"
   ]
  },
  {
   "cell_type": "code",
   "execution_count": 5,
   "metadata": {},
   "outputs": [],
   "source": [
    "#redimensiona a imagem\n",
    "new_width = int(im.shape[1] * .5)\n",
    "new_height = int(im.shape[0] * .5)\n",
    "dim = (new_width, new_height)\n",
    "im_resized = cv2.resize(im, dim, interpolation = cv2.INTER_AREA)"
   ]
  },
  {
   "cell_type": "code",
   "execution_count": 7,
   "metadata": {},
   "outputs": [],
   "source": [
    "#threshold\n",
    "ret,im_thresh = cv2.threshold(im,127,255,cv2.THRESH_BINARY)\n",
    "\n",
    "#mostra imagem com opencv\n",
    "cv2.imshow('threashold',im_thresh)\n",
    "cv2.imshow('resized',im_resized)\n",
    "cv2.imshow('imagem',im)\n",
    "cv2.waitKey(0)\n",
    "cv2.destroyAllWindows()"
   ]
  },
  {
   "cell_type": "code",
   "execution_count": null,
   "metadata": {},
   "outputs": [],
   "source": []
  }
 ],
 "metadata": {
  "kernelspec": {
   "display_name": "Python 3",
   "language": "python",
   "name": "python3"
  },
  "language_info": {
   "codemirror_mode": {
    "name": "ipython",
    "version": 3
   },
   "file_extension": ".py",
   "mimetype": "text/x-python",
   "name": "python",
   "nbconvert_exporter": "python",
   "pygments_lexer": "ipython3",
   "version": "3.12.0"
  }
 },
 "nbformat": 4,
 "nbformat_minor": 2
}
