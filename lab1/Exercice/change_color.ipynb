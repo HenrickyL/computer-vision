{
 "cells": [
  {
   "cell_type": "code",
   "execution_count": null,
   "metadata": {},
   "outputs": [],
   "source": [
    "import cv2\n",
    "import numpy as np\n",
    "import matplotlib.pyplot as plt"
   ]
  },
  {
   "cell_type": "code",
   "execution_count": null,
   "metadata": {},
   "outputs": [],
   "source": [
    "filename = '../gamora_nebula.jpg'\n",
    "im = cv2.imread(filename)"
   ]
  },
  {
   "cell_type": "code",
   "execution_count": null,
   "metadata": {},
   "outputs": [],
   "source": [
    "#redimensiona a imagem\n",
    "new_width = int(im.shape[1] * .5)\n",
    "new_height = int(im.shape[0] * .5)\n",
    "dim = (new_width, new_height)\n",
    "im_resized = cv2.resize(im, dim, interpolation = cv2.INTER_AREA)"
   ]
  },
  {
   "cell_type": "code",
   "execution_count": null,
   "metadata": {},
   "outputs": [],
   "source": [
    "im_hsv = cv2.cvtColor(im_resized, cv2.COLOR_BGR2HSV)\n",
    "\n",
    "im_r,im_g,im_b = cv2.split(im_hsv)\n",
    "# im_r = im_hsv[:,:,0]\n",
    "# im_g = im_hsv[:,:,1]\n",
    "# im_b = im_hsv[:,:,2]\n",
    "\n",
    "plt.subplot(1,4,1),plt.imshow(im_resized)\n",
    "plt.subplot(1,4,2),plt.imshow(im_r)\n",
    "plt.subplot(1,4,3),plt.imshow(im_g)\n",
    "plt.subplot(1,4,4),plt.imshow(im_b)\n",
    "\n"
   ]
  },
  {
   "cell_type": "code",
   "execution_count": null,
   "metadata": {},
   "outputs": [],
   "source": [
    "# Definir os intervalos de cores em BGR (blue green red)\n",
    "blue_interval = ([100, 0, 0], [255, 50, 50])  # valores BGR para azul\n",
    "green_interval = ([0, 100, 0], [50, 255, 50])  # valores BGR para verde\n",
    "\n",
    "# plt.subplot(1,2,1),plt.imshow(blue_interval)\n",
    "# plt.subplot(1,2,2),plt.imshow(green_interval)\n",
    "# plt.show()\n",
    "\n"
   ]
  },
  {
   "cell_type": "code",
   "execution_count": null,
   "metadata": {},
   "outputs": [],
   "source": [
    "# Criar máscaras para cada cor\n",
    "def getMasks(img, first_interval, second_interval):\n",
    "    blue_mask = cv2.inRange(img, np.array(first_interval[0]), np.array(first_interval[1]))\n",
    "    green_mask = cv2.inRange(img, np.array(second_interval[0]), np.array(second_interval[1]))\n",
    "    return blue_mask, green_mask"
   ]
  },
  {
   "cell_type": "code",
   "execution_count": null,
   "metadata": {},
   "outputs": [],
   "source": [
    "blue_mask, green_mask = getMasks(im, blue_interval, green_interval)\n",
    "# Trocar as cores\n",
    "im_hsv[blue_mask > 0] = (0, 255, 0)  # trocar azul por verde\n",
    "im_hsv[green_mask > 0] = (255, 0, 0)  # trocar verde por azul\n"
   ]
  },
  {
   "cell_type": "code",
   "execution_count": null,
   "metadata": {},
   "outputs": [],
   "source": [
    "im_change_hsv = cv2.cvtColor(im_hsv, cv2.COLOR_BGR2HSV)\n"
   ]
  },
  {
   "cell_type": "code",
   "execution_count": null,
   "metadata": {},
   "outputs": [],
   "source": [
    "plt.subplot(1,3,1),plt.imshow(im_resized)\n",
    "plt.subplot(1,3,2),plt.imshow(im_hsv)\n",
    "plt.subplot(1,3,3),plt.imshow(im_change_hsv)\n"
   ]
  },
  {
   "cell_type": "code",
   "execution_count": 1,
   "metadata": {},
   "outputs": [
    {
     "name": "stdout",
     "output_type": "stream",
     "text": [
      "limits\n",
      "limits\n",
      "limits\n",
      "limits\n",
      "limits\n",
      "limits\n"
     ]
    }
   ],
   "source": [
    "from CV_UT import ColorPicker\n",
    "\n",
    "# Uso\n",
    "picker = ColorPicker('../gamora_nebula.jpg')\n",
    "picker.start()"
   ]
  },
  {
   "cell_type": "code",
   "execution_count": null,
   "metadata": {},
   "outputs": [],
   "source": []
  }
 ],
 "metadata": {
  "kernelspec": {
   "display_name": "Python 3",
   "language": "python",
   "name": "python3"
  },
  "language_info": {
   "codemirror_mode": {
    "name": "ipython",
    "version": 3
   },
   "file_extension": ".py",
   "mimetype": "text/x-python",
   "name": "python",
   "nbconvert_exporter": "python",
   "pygments_lexer": "ipython3",
   "version": "3.12.0"
  }
 },
 "nbformat": 4,
 "nbformat_minor": 2
}
